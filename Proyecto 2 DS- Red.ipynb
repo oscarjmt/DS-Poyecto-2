{
 "cells": [
  {
   "cell_type": "code",
   "execution_count": 1,
   "id": "48ab9ef8",
   "metadata": {},
   "outputs": [],
   "source": [
    "import pandas as pd\n",
    "import numpy as np\n",
    "import matplotlib.pyplot as plt"
   ]
  },
  {
   "cell_type": "code",
   "execution_count": 2,
   "id": "62c515b2",
   "metadata": {},
   "outputs": [
    {
     "data": {
      "text/html": [
       "<div>\n",
       "<style scoped>\n",
       "    .dataframe tbody tr th:only-of-type {\n",
       "        vertical-align: middle;\n",
       "    }\n",
       "\n",
       "    .dataframe tbody tr th {\n",
       "        vertical-align: top;\n",
       "    }\n",
       "\n",
       "    .dataframe thead th {\n",
       "        text-align: right;\n",
       "    }\n",
       "</style>\n",
       "<table border=\"1\" class=\"dataframe\">\n",
       "  <thead>\n",
       "    <tr style=\"text-align: right;\">\n",
       "      <th></th>\n",
       "      <th>discourse_id</th>\n",
       "      <th>essay_id</th>\n",
       "      <th>discourse_text</th>\n",
       "      <th>discourse_type</th>\n",
       "      <th>discourse_effectiveness</th>\n",
       "      <th>spelling_errors</th>\n",
       "      <th>grammar_errors</th>\n",
       "      <th>punctuation_marks</th>\n",
       "      <th>text_length</th>\n",
       "      <th>sent_count</th>\n",
       "      <th>...</th>\n",
       "      <th>smog_score</th>\n",
       "      <th>stop_words</th>\n",
       "      <th>lexical_types</th>\n",
       "      <th>clauses_prop</th>\n",
       "      <th>sub_clauses_prop</th>\n",
       "      <th>verb_phrases_prop</th>\n",
       "      <th>noun_phrases_prop</th>\n",
       "      <th>chars_per_word</th>\n",
       "      <th>words_per_sentence</th>\n",
       "      <th>sybl_per_sentence</th>\n",
       "    </tr>\n",
       "  </thead>\n",
       "  <tbody>\n",
       "    <tr>\n",
       "      <th>0</th>\n",
       "      <td>0013cc385424</td>\n",
       "      <td>007ACE74B050</td>\n",
       "      <td>hi i am isaac i am going to be writing about h...</td>\n",
       "      <td>Lead</td>\n",
       "      <td>Adequate</td>\n",
       "      <td>7</td>\n",
       "      <td>2</td>\n",
       "      <td>9</td>\n",
       "      <td>325</td>\n",
       "      <td>3.0</td>\n",
       "      <td>...</td>\n",
       "      <td>7.793538</td>\n",
       "      <td>43</td>\n",
       "      <td>43</td>\n",
       "      <td>0.039474</td>\n",
       "      <td>0.000000</td>\n",
       "      <td>0.0</td>\n",
       "      <td>0.105263</td>\n",
       "      <td>3.571429</td>\n",
       "      <td>23.333333</td>\n",
       "      <td>27.00</td>\n",
       "    </tr>\n",
       "    <tr>\n",
       "      <th>1</th>\n",
       "      <td>9704a709b505</td>\n",
       "      <td>007ACE74B050</td>\n",
       "      <td>on my perspective i think that the face is a n...</td>\n",
       "      <td>Position</td>\n",
       "      <td>Adequate</td>\n",
       "      <td>4</td>\n",
       "      <td>2</td>\n",
       "      <td>4</td>\n",
       "      <td>214</td>\n",
       "      <td>2.0</td>\n",
       "      <td>...</td>\n",
       "      <td>10.125757</td>\n",
       "      <td>27</td>\n",
       "      <td>30</td>\n",
       "      <td>0.042553</td>\n",
       "      <td>0.021277</td>\n",
       "      <td>0.0</td>\n",
       "      <td>0.127660</td>\n",
       "      <td>4.047619</td>\n",
       "      <td>21.000000</td>\n",
       "      <td>26.50</td>\n",
       "    </tr>\n",
       "    <tr>\n",
       "      <th>2</th>\n",
       "      <td>c22adee811b6</td>\n",
       "      <td>007ACE74B050</td>\n",
       "      <td>i think that the face is a natural landlord be...</td>\n",
       "      <td>Claim</td>\n",
       "      <td>Adequate</td>\n",
       "      <td>2</td>\n",
       "      <td>1</td>\n",
       "      <td>0</td>\n",
       "      <td>105</td>\n",
       "      <td>1.0</td>\n",
       "      <td>...</td>\n",
       "      <td>11.208143</td>\n",
       "      <td>13</td>\n",
       "      <td>20</td>\n",
       "      <td>0.045455</td>\n",
       "      <td>0.045455</td>\n",
       "      <td>0.0</td>\n",
       "      <td>0.136364</td>\n",
       "      <td>4.047619</td>\n",
       "      <td>21.000000</td>\n",
       "      <td>27.00</td>\n",
       "    </tr>\n",
       "    <tr>\n",
       "      <th>3</th>\n",
       "      <td>a10d361e54e4</td>\n",
       "      <td>007ACE74B050</td>\n",
       "      <td>if life wa on mar we would know by now the rea...</td>\n",
       "      <td>Evidence</td>\n",
       "      <td>Adequate</td>\n",
       "      <td>11</td>\n",
       "      <td>3</td>\n",
       "      <td>13</td>\n",
       "      <td>374</td>\n",
       "      <td>4.0</td>\n",
       "      <td>...</td>\n",
       "      <td>9.516145</td>\n",
       "      <td>46</td>\n",
       "      <td>49</td>\n",
       "      <td>0.047059</td>\n",
       "      <td>0.035294</td>\n",
       "      <td>0.0</td>\n",
       "      <td>0.058824</td>\n",
       "      <td>3.815789</td>\n",
       "      <td>19.000000</td>\n",
       "      <td>24.75</td>\n",
       "    </tr>\n",
       "    <tr>\n",
       "      <th>4</th>\n",
       "      <td>db3e453ec4e2</td>\n",
       "      <td>007ACE74B050</td>\n",
       "      <td>people thought that the face wa formed by alie...</td>\n",
       "      <td>Counterclaim</td>\n",
       "      <td>Adequate</td>\n",
       "      <td>2</td>\n",
       "      <td>1</td>\n",
       "      <td>1</td>\n",
       "      <td>100</td>\n",
       "      <td>1.0</td>\n",
       "      <td>...</td>\n",
       "      <td>3.129100</td>\n",
       "      <td>10</td>\n",
       "      <td>16</td>\n",
       "      <td>0.052632</td>\n",
       "      <td>0.052632</td>\n",
       "      <td>0.0</td>\n",
       "      <td>0.052632</td>\n",
       "      <td>4.555556</td>\n",
       "      <td>18.000000</td>\n",
       "      <td>20.00</td>\n",
       "    </tr>\n",
       "  </tbody>\n",
       "</table>\n",
       "<p>5 rows × 28 columns</p>\n",
       "</div>"
      ],
      "text/plain": [
       "   discourse_id      essay_id  \\\n",
       "0  0013cc385424  007ACE74B050   \n",
       "1  9704a709b505  007ACE74B050   \n",
       "2  c22adee811b6  007ACE74B050   \n",
       "3  a10d361e54e4  007ACE74B050   \n",
       "4  db3e453ec4e2  007ACE74B050   \n",
       "\n",
       "                                      discourse_text discourse_type  \\\n",
       "0  hi i am isaac i am going to be writing about h...           Lead   \n",
       "1  on my perspective i think that the face is a n...       Position   \n",
       "2  i think that the face is a natural landlord be...          Claim   \n",
       "3  if life wa on mar we would know by now the rea...       Evidence   \n",
       "4  people thought that the face wa formed by alie...   Counterclaim   \n",
       "\n",
       "  discourse_effectiveness  spelling_errors  grammar_errors  punctuation_marks  \\\n",
       "0                Adequate                7               2                  9   \n",
       "1                Adequate                4               2                  4   \n",
       "2                Adequate                2               1                  0   \n",
       "3                Adequate               11               3                 13   \n",
       "4                Adequate                2               1                  1   \n",
       "\n",
       "   text_length  sent_count  ...  smog_score  stop_words  lexical_types  \\\n",
       "0          325         3.0  ...    7.793538          43             43   \n",
       "1          214         2.0  ...   10.125757          27             30   \n",
       "2          105         1.0  ...   11.208143          13             20   \n",
       "3          374         4.0  ...    9.516145          46             49   \n",
       "4          100         1.0  ...    3.129100          10             16   \n",
       "\n",
       "   clauses_prop  sub_clauses_prop  verb_phrases_prop  noun_phrases_prop  \\\n",
       "0      0.039474          0.000000                0.0           0.105263   \n",
       "1      0.042553          0.021277                0.0           0.127660   \n",
       "2      0.045455          0.045455                0.0           0.136364   \n",
       "3      0.047059          0.035294                0.0           0.058824   \n",
       "4      0.052632          0.052632                0.0           0.052632   \n",
       "\n",
       "   chars_per_word  words_per_sentence  sybl_per_sentence  \n",
       "0        3.571429           23.333333              27.00  \n",
       "1        4.047619           21.000000              26.50  \n",
       "2        4.047619           21.000000              27.00  \n",
       "3        3.815789           19.000000              24.75  \n",
       "4        4.555556           18.000000              20.00  \n",
       "\n",
       "[5 rows x 28 columns]"
      ]
     },
     "execution_count": 2,
     "metadata": {},
     "output_type": "execute_result"
    }
   ],
   "source": [
    "df = pd.read_csv(\"train_features2.csv\")\n",
    "df.head()"
   ]
  },
  {
   "cell_type": "code",
   "execution_count": 3,
   "id": "49b74137",
   "metadata": {},
   "outputs": [
    {
     "data": {
      "text/plain": [
       "(36765, 28)"
      ]
     },
     "execution_count": 3,
     "metadata": {},
     "output_type": "execute_result"
    }
   ],
   "source": [
    "df.shape"
   ]
  },
  {
   "cell_type": "code",
   "execution_count": 3,
   "id": "c48a3196",
   "metadata": {},
   "outputs": [
    {
     "data": {
      "text/plain": [
       "discourse_id                object\n",
       "essay_id                    object\n",
       "discourse_text              object\n",
       "discourse_type              object\n",
       "discourse_effectiveness     object\n",
       "spelling_errors              int64\n",
       "grammar_errors               int64\n",
       "punctuation_marks            int64\n",
       "text_length                  int64\n",
       "sent_count                 float64\n",
       "word_count                 float64\n",
       "sybl_count                 float64\n",
       "char_count                 float64\n",
       "polysyblword_count         float64\n",
       "dalechall_score            float64\n",
       "flesch_score               float64\n",
       "fleschkincaid_score        float64\n",
       "gunningfog_score           float64\n",
       "smog_score                 float64\n",
       "stop_words                   int64\n",
       "lexical_types                int64\n",
       "clauses_prop               float64\n",
       "sub_clauses_prop           float64\n",
       "verb_phrases_prop          float64\n",
       "noun_phrases_prop          float64\n",
       "chars_per_word             float64\n",
       "words_per_sentence         float64\n",
       "sybl_per_sentence          float64\n",
       "dtype: object"
      ]
     },
     "execution_count": 3,
     "metadata": {},
     "output_type": "execute_result"
    }
   ],
   "source": [
    "df.dtypes"
   ]
  },
  {
   "cell_type": "code",
   "execution_count": 4,
   "id": "d23efdd5",
   "metadata": {},
   "outputs": [
    {
     "data": {
      "text/plain": [
       "Evidence                12105\n",
       "Claim                   11977\n",
       "Position                 4024\n",
       "Concluding Statement     3351\n",
       "Lead                     2291\n",
       "Counterclaim             1773\n",
       "Rebuttal                 1244\n",
       "Name: discourse_type, dtype: int64"
      ]
     },
     "execution_count": 4,
     "metadata": {},
     "output_type": "execute_result"
    }
   ],
   "source": [
    "df.discourse_type.value_counts()"
   ]
  },
  {
   "cell_type": "markdown",
   "id": "4e902290",
   "metadata": {},
   "source": [
    "## Modelos "
   ]
  },
  {
   "cell_type": "code",
   "execution_count": 5,
   "id": "633431c2",
   "metadata": {},
   "outputs": [],
   "source": [
    "import pandas as pd\n",
    "from sklearn.model_selection import train_test_split\n",
    "from sklearn.preprocessing import StandardScaler, LabelEncoder\n",
    "from sklearn.feature_extraction.text import TfidfVectorizer\n",
    "from sklearn.metrics import classification_report, accuracy_score, confusion_matrix, ConfusionMatrixDisplay, log_loss\n",
    "from sklearn.utils.class_weight import compute_class_weight\n",
    "import tensorflow as tf\n",
    "from keras.preprocessing.text import Tokenizer\n",
    "from keras.preprocessing.sequence import pad_sequences\n",
    "from keras.utils import to_categorical\n",
    "from keras.models import Sequential, Model\n",
    "from keras.layers import Input, Embedding, Conv1D, GlobalMaxPooling1D, Dense, Concatenate, Flatten, Dropout\n",
    "from tensorflow.keras.optimizers import Adam\n",
    "from keras.regularizers import l2\n",
    "from keras.callbacks import ModelCheckpoint, EarlyStopping\n",
    "import xgboost as xgb"
   ]
  },
  {
   "cell_type": "code",
   "execution_count": 6,
   "id": "e85c75dc",
   "metadata": {},
   "outputs": [],
   "source": [
    "df2 = df.drop([\"discourse_id\",\"essay_id\"], axis=1)"
   ]
  },
  {
   "cell_type": "code",
   "execution_count": 7,
   "id": "8e3d9c88",
   "metadata": {},
   "outputs": [
    {
     "data": {
      "text/html": [
       "<div>\n",
       "<style scoped>\n",
       "    .dataframe tbody tr th:only-of-type {\n",
       "        vertical-align: middle;\n",
       "    }\n",
       "\n",
       "    .dataframe tbody tr th {\n",
       "        vertical-align: top;\n",
       "    }\n",
       "\n",
       "    .dataframe thead th {\n",
       "        text-align: right;\n",
       "    }\n",
       "</style>\n",
       "<table border=\"1\" class=\"dataframe\">\n",
       "  <thead>\n",
       "    <tr style=\"text-align: right;\">\n",
       "      <th></th>\n",
       "      <th>discourse_text</th>\n",
       "      <th>discourse_type</th>\n",
       "      <th>discourse_effectiveness</th>\n",
       "      <th>spelling_errors</th>\n",
       "      <th>grammar_errors</th>\n",
       "      <th>punctuation_marks</th>\n",
       "      <th>text_length</th>\n",
       "      <th>sent_count</th>\n",
       "      <th>word_count</th>\n",
       "      <th>sybl_count</th>\n",
       "      <th>...</th>\n",
       "      <th>noun_phrases_prop</th>\n",
       "      <th>chars_per_word</th>\n",
       "      <th>words_per_sentence</th>\n",
       "      <th>sybl_per_sentence</th>\n",
       "      <th>Concluding Statement</th>\n",
       "      <th>Counterclaim</th>\n",
       "      <th>Evidence</th>\n",
       "      <th>Lead</th>\n",
       "      <th>Position</th>\n",
       "      <th>Rebuttal</th>\n",
       "    </tr>\n",
       "  </thead>\n",
       "  <tbody>\n",
       "    <tr>\n",
       "      <th>0</th>\n",
       "      <td>hi i am isaac i am going to be writing about h...</td>\n",
       "      <td>Lead</td>\n",
       "      <td>Adequate</td>\n",
       "      <td>7</td>\n",
       "      <td>2</td>\n",
       "      <td>9</td>\n",
       "      <td>325</td>\n",
       "      <td>3.0</td>\n",
       "      <td>70.0</td>\n",
       "      <td>81.0</td>\n",
       "      <td>...</td>\n",
       "      <td>0.105263</td>\n",
       "      <td>3.571429</td>\n",
       "      <td>23.333333</td>\n",
       "      <td>27.00</td>\n",
       "      <td>0</td>\n",
       "      <td>0</td>\n",
       "      <td>0</td>\n",
       "      <td>1</td>\n",
       "      <td>0</td>\n",
       "      <td>0</td>\n",
       "    </tr>\n",
       "    <tr>\n",
       "      <th>1</th>\n",
       "      <td>on my perspective i think that the face is a n...</td>\n",
       "      <td>Position</td>\n",
       "      <td>Adequate</td>\n",
       "      <td>4</td>\n",
       "      <td>2</td>\n",
       "      <td>4</td>\n",
       "      <td>214</td>\n",
       "      <td>2.0</td>\n",
       "      <td>42.0</td>\n",
       "      <td>53.0</td>\n",
       "      <td>...</td>\n",
       "      <td>0.127660</td>\n",
       "      <td>4.047619</td>\n",
       "      <td>21.000000</td>\n",
       "      <td>26.50</td>\n",
       "      <td>0</td>\n",
       "      <td>0</td>\n",
       "      <td>0</td>\n",
       "      <td>0</td>\n",
       "      <td>1</td>\n",
       "      <td>0</td>\n",
       "    </tr>\n",
       "    <tr>\n",
       "      <th>2</th>\n",
       "      <td>i think that the face is a natural landlord be...</td>\n",
       "      <td>Claim</td>\n",
       "      <td>Adequate</td>\n",
       "      <td>2</td>\n",
       "      <td>1</td>\n",
       "      <td>0</td>\n",
       "      <td>105</td>\n",
       "      <td>1.0</td>\n",
       "      <td>21.0</td>\n",
       "      <td>27.0</td>\n",
       "      <td>...</td>\n",
       "      <td>0.136364</td>\n",
       "      <td>4.047619</td>\n",
       "      <td>21.000000</td>\n",
       "      <td>27.00</td>\n",
       "      <td>0</td>\n",
       "      <td>0</td>\n",
       "      <td>0</td>\n",
       "      <td>0</td>\n",
       "      <td>0</td>\n",
       "      <td>0</td>\n",
       "    </tr>\n",
       "    <tr>\n",
       "      <th>3</th>\n",
       "      <td>if life wa on mar we would know by now the rea...</td>\n",
       "      <td>Evidence</td>\n",
       "      <td>Adequate</td>\n",
       "      <td>11</td>\n",
       "      <td>3</td>\n",
       "      <td>13</td>\n",
       "      <td>374</td>\n",
       "      <td>4.0</td>\n",
       "      <td>76.0</td>\n",
       "      <td>99.0</td>\n",
       "      <td>...</td>\n",
       "      <td>0.058824</td>\n",
       "      <td>3.815789</td>\n",
       "      <td>19.000000</td>\n",
       "      <td>24.75</td>\n",
       "      <td>0</td>\n",
       "      <td>0</td>\n",
       "      <td>1</td>\n",
       "      <td>0</td>\n",
       "      <td>0</td>\n",
       "      <td>0</td>\n",
       "    </tr>\n",
       "    <tr>\n",
       "      <th>4</th>\n",
       "      <td>people thought that the face wa formed by alie...</td>\n",
       "      <td>Counterclaim</td>\n",
       "      <td>Adequate</td>\n",
       "      <td>2</td>\n",
       "      <td>1</td>\n",
       "      <td>1</td>\n",
       "      <td>100</td>\n",
       "      <td>1.0</td>\n",
       "      <td>18.0</td>\n",
       "      <td>20.0</td>\n",
       "      <td>...</td>\n",
       "      <td>0.052632</td>\n",
       "      <td>4.555556</td>\n",
       "      <td>18.000000</td>\n",
       "      <td>20.00</td>\n",
       "      <td>0</td>\n",
       "      <td>1</td>\n",
       "      <td>0</td>\n",
       "      <td>0</td>\n",
       "      <td>0</td>\n",
       "      <td>0</td>\n",
       "    </tr>\n",
       "  </tbody>\n",
       "</table>\n",
       "<p>5 rows × 32 columns</p>\n",
       "</div>"
      ],
      "text/plain": [
       "                                      discourse_text discourse_type  \\\n",
       "0  hi i am isaac i am going to be writing about h...           Lead   \n",
       "1  on my perspective i think that the face is a n...       Position   \n",
       "2  i think that the face is a natural landlord be...          Claim   \n",
       "3  if life wa on mar we would know by now the rea...       Evidence   \n",
       "4  people thought that the face wa formed by alie...   Counterclaim   \n",
       "\n",
       "  discourse_effectiveness  spelling_errors  grammar_errors  punctuation_marks  \\\n",
       "0                Adequate                7               2                  9   \n",
       "1                Adequate                4               2                  4   \n",
       "2                Adequate                2               1                  0   \n",
       "3                Adequate               11               3                 13   \n",
       "4                Adequate                2               1                  1   \n",
       "\n",
       "   text_length  sent_count  word_count  sybl_count  ...  noun_phrases_prop  \\\n",
       "0          325         3.0        70.0        81.0  ...           0.105263   \n",
       "1          214         2.0        42.0        53.0  ...           0.127660   \n",
       "2          105         1.0        21.0        27.0  ...           0.136364   \n",
       "3          374         4.0        76.0        99.0  ...           0.058824   \n",
       "4          100         1.0        18.0        20.0  ...           0.052632   \n",
       "\n",
       "   chars_per_word  words_per_sentence  sybl_per_sentence  \\\n",
       "0        3.571429           23.333333              27.00   \n",
       "1        4.047619           21.000000              26.50   \n",
       "2        4.047619           21.000000              27.00   \n",
       "3        3.815789           19.000000              24.75   \n",
       "4        4.555556           18.000000              20.00   \n",
       "\n",
       "   Concluding Statement  Counterclaim  Evidence  Lead  Position  Rebuttal  \n",
       "0                     0             0         0     1         0         0  \n",
       "1                     0             0         0     0         1         0  \n",
       "2                     0             0         0     0         0         0  \n",
       "3                     0             0         1     0         0         0  \n",
       "4                     0             1         0     0         0         0  \n",
       "\n",
       "[5 rows x 32 columns]"
      ]
     },
     "execution_count": 7,
     "metadata": {},
     "output_type": "execute_result"
    }
   ],
   "source": [
    "one_hot_encoded = pd.get_dummies(df['discourse_type'], drop_first=True)\n",
    "df2 = pd.concat([df2, one_hot_encoded], axis=1)\n",
    "df2.head()"
   ]
  },
  {
   "cell_type": "code",
   "execution_count": 9,
   "id": "40893b31",
   "metadata": {},
   "outputs": [],
   "source": [
    "labels = {\n",
    "    'Ineffective': 0,\n",
    "    'Adequate': 1,\n",
    "    'Effective': 2\n",
    "}\n",
    "\n",
    "X = df2.drop([\"discourse_effectiveness\"], axis=1)\n",
    "y = df2['discourse_effectiveness'].map(labels)\n",
    "\n",
    "X_train, X_test, y_train, y_test = train_test_split(X, y, test_size=0.2, random_state=42)"
   ]
  },
  {
   "cell_type": "code",
   "execution_count": 8,
   "id": "ee6e4ad9",
   "metadata": {},
   "outputs": [],
   "source": [
    "types = ['Evidence', 'Claim', 'Position', 'Concluding Statement', 'Lead', 'Counterclaim', 'Rebuttal']\n",
    "maxlen = [3896, 641, 517, 1454, 1700, 1282, 944]\n",
    "max_words = [696, 117, 99, 259, 316, 217, 175]"
   ]
  },
  {
   "cell_type": "markdown",
   "id": "a025e39e",
   "metadata": {},
   "source": [
    "### Red Neuronal Convolucional"
   ]
  },
  {
   "cell_type": "code",
   "execution_count": 73,
   "id": "63eb905e",
   "metadata": {},
   "outputs": [],
   "source": [
    "discourse_type = 'Rebuttal'"
   ]
  },
  {
   "cell_type": "code",
   "execution_count": 74,
   "id": "78dbe96e",
   "metadata": {},
   "outputs": [
    {
     "name": "stdout",
     "output_type": "stream",
     "text": [
      "Adequate       0.557074\n",
      "Effective      0.273312\n",
      "Ineffective    0.169614\n",
      "Name: discourse_effectiveness, dtype: float64 \n",
      "\n",
      "Adequate       693\n",
      "Effective      340\n",
      "Ineffective    211\n",
      "Name: discourse_effectiveness, dtype: int64\n"
     ]
    }
   ],
   "source": [
    "X_train_type = X_train[X_train.discourse_type == discourse_type].drop('discourse_type', axis=1)\n",
    "y_train_type = y_train[X_train.discourse_type == discourse_type]\n",
    "\n",
    "X_test_type = X_test[X_test.discourse_type == discourse_type].drop('discourse_type', axis=1)\n",
    "y_test_type = y_test[X_test.discourse_type == discourse_type]\n",
    "\n",
    "print(df2[df2.discourse_type == discourse_type].discourse_effectiveness.value_counts(normalize=True), \"\\n\")\n",
    "print(df2[df2.discourse_type == discourse_type].discourse_effectiveness.value_counts())\n",
    "discourse_type = discourse_type.replace(' ', '')"
   ]
  },
  {
   "cell_type": "code",
   "execution_count": 75,
   "id": "0e9933dc",
   "metadata": {},
   "outputs": [
    {
     "data": {
      "text/plain": [
       "(944, 175)"
      ]
     },
     "execution_count": 75,
     "metadata": {},
     "output_type": "execute_result"
    }
   ],
   "source": [
    "maxlen = int(X_train_type[\"text_length\"].max())\n",
    "max_words = int(X_train_type['word_count'].max())\n",
    "\n",
    "tokenizer = Tokenizer(num_words=max_words)\n",
    "tokenizer.fit_on_texts(X_train_type['discourse_text'])\n",
    "X_train_seq = pad_sequences(tokenizer.texts_to_sequences(X_train_type['discourse_text']), maxlen=maxlen)\n",
    "X_test_seq = pad_sequences(tokenizer.texts_to_sequences(X_test_type['discourse_text']), maxlen=maxlen)\n",
    "\n",
    "tokenizer_json = tokenizer.to_json()\n",
    "with open('models/tokenizer_' + discourse_type + '.json', 'w', encoding='utf-8') as json_file:\n",
    "    json_file.write(tokenizer_json)\n",
    "\n",
    "maxlen, max_words"
   ]
  },
  {
   "cell_type": "code",
   "execution_count": 85,
   "id": "19f850a6",
   "metadata": {},
   "outputs": [],
   "source": [
    "checkpoint = ModelCheckpoint(\n",
    "    'models/conv_' + discourse_type + '.h5',\n",
    "     monitor='val_loss',\n",
    "     save_best_only=True,\n",
    "     mode='min',\n",
    "     verbose=1\n",
    ")\n",
    "\n",
    "early_stopping_train = EarlyStopping(\n",
    "    monitor='accuracy',\n",
    "    min_delta=0.01,\n",
    "    patience=5,\n",
    "    verbose=0,\n",
    "    mode='max',\n",
    "    baseline=None,\n",
    "    restore_best_weights=True,\n",
    "    start_from_epoch=10\n",
    ") \n",
    "\n",
    "\n",
    "early_stopping_test = EarlyStopping(\n",
    "    monitor='val_accuracy',\n",
    "    min_delta=0.001,\n",
    "    patience=15,\n",
    "    verbose=0,\n",
    "    mode='max',\n",
    "    baseline=None,\n",
    "    restore_best_weights=True,\n",
    "    start_from_epoch=10\n",
    ") "
   ]
  },
  {
   "cell_type": "code",
   "execution_count": 86,
   "id": "d2b1b460",
   "metadata": {},
   "outputs": [
    {
     "name": "stderr",
     "output_type": "stream",
     "text": [
      "WARNING:absl:`lr` is deprecated in Keras optimizer, please use `learning_rate` or use the legacy optimizer, e.g.,tf.keras.optimizers.legacy.Adam.\n"
     ]
    },
    {
     "name": "stdout",
     "output_type": "stream",
     "text": [
      "\n",
      "\n",
      "lr = 0.01\n",
      "l2 = 0.005\n",
      "Epoch 1/40\n",
      "8/8 [==============================] - ETA: 0s - loss: 2.3923 - accuracy: 0.3461\n",
      "Epoch 1: val_loss improved from inf to 2.26349, saving model to models\\conv_Rebuttal.h5\n",
      "8/8 [==============================] - 4s 422ms/step - loss: 2.3923 - accuracy: 0.3461 - val_loss: 2.2635 - val_accuracy: 0.3478\n",
      "Epoch 2/40\n",
      "8/8 [==============================] - ETA: 0s - loss: 2.1806 - accuracy: 0.3290\n",
      "Epoch 2: val_loss improved from 2.26349 to 2.06938, saving model to models\\conv_Rebuttal.h5\n",
      "8/8 [==============================] - 3s 406ms/step - loss: 2.1806 - accuracy: 0.3290 - val_loss: 2.0694 - val_accuracy: 0.3281\n",
      "Epoch 3/40\n",
      "8/8 [==============================] - ETA: 0s - loss: 2.0003 - accuracy: 0.3512\n",
      "Epoch 3: val_loss improved from 2.06938 to 1.90273, saving model to models\\conv_Rebuttal.h5\n",
      "8/8 [==============================] - 3s 417ms/step - loss: 2.0003 - accuracy: 0.3512 - val_loss: 1.9027 - val_accuracy: 0.5771\n",
      "Epoch 4/40\n",
      "8/8 [==============================] - ETA: 0s - loss: 1.8459 - accuracy: 0.5540\n",
      "Epoch 4: val_loss improved from 1.90273 to 1.75811, saving model to models\\conv_Rebuttal.h5\n",
      "8/8 [==============================] - 3s 399ms/step - loss: 1.8459 - accuracy: 0.5540 - val_loss: 1.7581 - val_accuracy: 0.5850\n",
      "Epoch 5/40\n",
      "8/8 [==============================] - ETA: 0s - loss: 1.7087 - accuracy: 0.5499\n",
      "Epoch 5: val_loss improved from 1.75811 to 1.63171, saving model to models\\conv_Rebuttal.h5\n",
      "8/8 [==============================] - 3s 395ms/step - loss: 1.7087 - accuracy: 0.5499 - val_loss: 1.6317 - val_accuracy: 0.5850\n",
      "Epoch 6/40\n",
      "8/8 [==============================] - ETA: 0s - loss: 1.5932 - accuracy: 0.5499\n",
      "Epoch 6: val_loss improved from 1.63171 to 1.51694, saving model to models\\conv_Rebuttal.h5\n",
      "8/8 [==============================] - 3s 399ms/step - loss: 1.5932 - accuracy: 0.5499 - val_loss: 1.5169 - val_accuracy: 0.5850\n",
      "Epoch 7/40\n",
      "8/8 [==============================] - ETA: 0s - loss: 1.4886 - accuracy: 0.5499\n",
      "Epoch 7: val_loss improved from 1.51694 to 1.41215, saving model to models\\conv_Rebuttal.h5\n",
      "8/8 [==============================] - 3s 397ms/step - loss: 1.4886 - accuracy: 0.5499 - val_loss: 1.4121 - val_accuracy: 0.5850\n",
      "Epoch 8/40\n",
      "8/8 [==============================] - ETA: 0s - loss: 1.4028 - accuracy: 0.5499\n",
      "Epoch 8: val_loss improved from 1.41215 to 1.32661, saving model to models\\conv_Rebuttal.h5\n",
      "8/8 [==============================] - 3s 395ms/step - loss: 1.4028 - accuracy: 0.5499 - val_loss: 1.3266 - val_accuracy: 0.5850\n",
      "Epoch 9/40\n",
      "8/8 [==============================] - ETA: 0s - loss: 1.3400 - accuracy: 0.5499\n",
      "Epoch 9: val_loss improved from 1.32661 to 1.26656, saving model to models\\conv_Rebuttal.h5\n",
      "8/8 [==============================] - 3s 396ms/step - loss: 1.3400 - accuracy: 0.5499 - val_loss: 1.2666 - val_accuracy: 0.5850\n",
      "Epoch 10/40\n",
      "8/8 [==============================] - ETA: 0s - loss: 1.2848 - accuracy: 0.5499\n",
      "Epoch 10: val_loss improved from 1.26656 to 1.22079, saving model to models\\conv_Rebuttal.h5\n",
      "8/8 [==============================] - 3s 404ms/step - loss: 1.2848 - accuracy: 0.5499 - val_loss: 1.2208 - val_accuracy: 0.5850\n",
      "Epoch 11/40\n",
      "8/8 [==============================] - ETA: 0s - loss: 1.2323 - accuracy: 0.5510\n",
      "Epoch 11: val_loss improved from 1.22079 to 1.18353, saving model to models\\conv_Rebuttal.h5\n",
      "8/8 [==============================] - 3s 400ms/step - loss: 1.2323 - accuracy: 0.5510 - val_loss: 1.1835 - val_accuracy: 0.6047\n",
      "Epoch 12/40\n",
      "8/8 [==============================] - ETA: 0s - loss: 1.1855 - accuracy: 0.5742\n",
      "Epoch 12: val_loss improved from 1.18353 to 1.13986, saving model to models\\conv_Rebuttal.h5\n",
      "8/8 [==============================] - 4s 447ms/step - loss: 1.1855 - accuracy: 0.5742 - val_loss: 1.1399 - val_accuracy: 0.5968\n",
      "Epoch 13/40\n",
      "8/8 [==============================] - ETA: 0s - loss: 1.1428 - accuracy: 0.5943\n",
      "Epoch 13: val_loss improved from 1.13986 to 1.10946, saving model to models\\conv_Rebuttal.h5\n",
      "8/8 [==============================] - 4s 464ms/step - loss: 1.1428 - accuracy: 0.5943 - val_loss: 1.1095 - val_accuracy: 0.5889\n",
      "Epoch 14/40\n",
      "8/8 [==============================] - ETA: 0s - loss: 1.0991 - accuracy: 0.6024\n",
      "Epoch 14: val_loss improved from 1.10946 to 1.08780, saving model to models\\conv_Rebuttal.h5\n",
      "8/8 [==============================] - 4s 459ms/step - loss: 1.0991 - accuracy: 0.6024 - val_loss: 1.0878 - val_accuracy: 0.5929\n",
      "Epoch 15/40\n",
      "8/8 [==============================] - ETA: 0s - loss: 1.0629 - accuracy: 0.6155\n",
      "Epoch 15: val_loss improved from 1.08780 to 1.07152, saving model to models\\conv_Rebuttal.h5\n",
      "8/8 [==============================] - 4s 455ms/step - loss: 1.0629 - accuracy: 0.6155 - val_loss: 1.0715 - val_accuracy: 0.5731\n",
      "Epoch 16/40\n",
      "8/8 [==============================] - ETA: 0s - loss: 1.0279 - accuracy: 0.6337\n",
      "Epoch 16: val_loss improved from 1.07152 to 1.06018, saving model to models\\conv_Rebuttal.h5\n",
      "8/8 [==============================] - 4s 461ms/step - loss: 1.0279 - accuracy: 0.6337 - val_loss: 1.0602 - val_accuracy: 0.5810\n",
      "Epoch 17/40\n",
      "8/8 [==============================] - ETA: 0s - loss: 1.0011 - accuracy: 0.6458\n",
      "Epoch 17: val_loss improved from 1.06018 to 1.05787, saving model to models\\conv_Rebuttal.h5\n",
      "8/8 [==============================] - 4s 465ms/step - loss: 1.0011 - accuracy: 0.6458 - val_loss: 1.0579 - val_accuracy: 0.5731\n",
      "Epoch 18/40\n",
      "8/8 [==============================] - ETA: 0s - loss: 0.9742 - accuracy: 0.6448\n",
      "Epoch 18: val_loss improved from 1.05787 to 1.04968, saving model to models\\conv_Rebuttal.h5\n",
      "8/8 [==============================] - 4s 460ms/step - loss: 0.9742 - accuracy: 0.6448 - val_loss: 1.0497 - val_accuracy: 0.5771\n",
      "Epoch 19/40\n",
      "8/8 [==============================] - ETA: 0s - loss: 0.9440 - accuracy: 0.6660\n",
      "Epoch 19: val_loss improved from 1.04968 to 1.04604, saving model to models\\conv_Rebuttal.h5\n",
      "8/8 [==============================] - 4s 461ms/step - loss: 0.9440 - accuracy: 0.6660 - val_loss: 1.0460 - val_accuracy: 0.5850\n",
      "Epoch 20/40\n",
      "8/8 [==============================] - ETA: 0s - loss: 0.9230 - accuracy: 0.6700\n",
      "Epoch 20: val_loss did not improve from 1.04604\n",
      "8/8 [==============================] - 4s 446ms/step - loss: 0.9230 - accuracy: 0.6700 - val_loss: 1.0508 - val_accuracy: 0.5613\n",
      "Epoch 21/40\n",
      "8/8 [==============================] - ETA: 0s - loss: 0.9203 - accuracy: 0.6680\n",
      "Epoch 21: val_loss did not improve from 1.04604\n",
      "8/8 [==============================] - 3s 418ms/step - loss: 0.9203 - accuracy: 0.6680 - val_loss: 1.0553 - val_accuracy: 0.5968\n",
      "Epoch 22/40\n",
      "8/8 [==============================] - ETA: 0s - loss: 0.8942 - accuracy: 0.6902\n",
      "Epoch 22: val_loss did not improve from 1.04604\n",
      "8/8 [==============================] - 3s 397ms/step - loss: 0.8942 - accuracy: 0.6902 - val_loss: 1.0510 - val_accuracy: 0.5889\n",
      "Epoch 23/40\n",
      "8/8 [==============================] - ETA: 0s - loss: 0.8644 - accuracy: 0.6922\n",
      "Epoch 23: val_loss did not improve from 1.04604\n",
      "8/8 [==============================] - 3s 397ms/step - loss: 0.8644 - accuracy: 0.6922 - val_loss: 1.0547 - val_accuracy: 0.5534\n",
      "Epoch 24/40\n",
      "8/8 [==============================] - ETA: 0s - loss: 0.8475 - accuracy: 0.7134\n",
      "Epoch 24: val_loss did not improve from 1.04604\n",
      "8/8 [==============================] - 3s 404ms/step - loss: 0.8475 - accuracy: 0.7134 - val_loss: 1.0618 - val_accuracy: 0.5850\n",
      "Epoch 25/40\n",
      "8/8 [==============================] - ETA: 0s - loss: 0.8298 - accuracy: 0.7134\n",
      "Epoch 25: val_loss did not improve from 1.04604\n",
      "8/8 [==============================] - 3s 403ms/step - loss: 0.8298 - accuracy: 0.7134 - val_loss: 1.0728 - val_accuracy: 0.5494\n",
      "Epoch 26/40\n",
      "8/8 [==============================] - ETA: 0s - loss: 0.8182 - accuracy: 0.7225\n",
      "Epoch 26: val_loss did not improve from 1.04604\n",
      "8/8 [==============================] - 3s 403ms/step - loss: 0.8182 - accuracy: 0.7225 - val_loss: 1.0846 - val_accuracy: 0.5771\n"
     ]
    },
    {
     "name": "stderr",
     "output_type": "stream",
     "text": [
      "WARNING:absl:`lr` is deprecated in Keras optimizer, please use `learning_rate` or use the legacy optimizer, e.g.,tf.keras.optimizers.legacy.Adam.\n"
     ]
    },
    {
     "name": "stdout",
     "output_type": "stream",
     "text": [
      "\n",
      "\n",
      "lr = 0.005\n",
      "l2 = 0.005\n",
      "Epoch 1/40\n",
      "8/8 [==============================] - ETA: 0s - loss: 2.3677 - accuracy: 0.4319\n",
      "Epoch 1: val_loss did not improve from 1.04604\n",
      "8/8 [==============================] - 5s 466ms/step - loss: 2.3677 - accuracy: 0.4319 - val_loss: 2.2350 - val_accuracy: 0.5850\n",
      "Epoch 2/40\n",
      "8/8 [==============================] - ETA: 0s - loss: 2.1470 - accuracy: 0.5499\n",
      "Epoch 2: val_loss did not improve from 1.04604\n",
      "8/8 [==============================] - 3s 396ms/step - loss: 2.1470 - accuracy: 0.5499 - val_loss: 2.0279 - val_accuracy: 0.5850\n",
      "Epoch 3/40\n",
      "8/8 [==============================] - ETA: 0s - loss: 1.9576 - accuracy: 0.5499\n",
      "Epoch 3: val_loss did not improve from 1.04604\n",
      "8/8 [==============================] - 3s 387ms/step - loss: 1.9576 - accuracy: 0.5499 - val_loss: 1.8486 - val_accuracy: 0.5850\n",
      "Epoch 4/40\n",
      "8/8 [==============================] - ETA: 0s - loss: 1.7924 - accuracy: 0.5499\n",
      "Epoch 4: val_loss did not improve from 1.04604\n",
      "8/8 [==============================] - 3s 394ms/step - loss: 1.7924 - accuracy: 0.5499 - val_loss: 1.6911 - val_accuracy: 0.5850\n",
      "Epoch 5/40\n",
      "7/8 [=========================>....] - ETA: 0s - loss: 1.6591 - accuracy: 0.5525"
     ]
    },
    {
     "ename": "KeyboardInterrupt",
     "evalue": "",
     "output_type": "error",
     "traceback": [
      "\u001b[1;31m---------------------------------------------------------------------------\u001b[0m",
      "\u001b[1;31mKeyboardInterrupt\u001b[0m                         Traceback (most recent call last)",
      "Cell \u001b[1;32mIn[86], line 22\u001b[0m\n\u001b[0;32m     19\u001b[0m \u001b[38;5;28mprint\u001b[39m(\u001b[38;5;124m\"\u001b[39m\u001b[38;5;130;01m\\n\u001b[39;00m\u001b[38;5;130;01m\\n\u001b[39;00m\u001b[38;5;124mlr =\u001b[39m\u001b[38;5;124m\"\u001b[39m, lr)\n\u001b[0;32m     20\u001b[0m \u001b[38;5;28mprint\u001b[39m(\u001b[38;5;124m\"\u001b[39m\u001b[38;5;124ml2 =\u001b[39m\u001b[38;5;124m\"\u001b[39m, conv_l2)\n\u001b[1;32m---> 22\u001b[0m model_conv\u001b[38;5;241m.\u001b[39mfit(\n\u001b[0;32m     23\u001b[0m     X_train_seq, y_train_type,\n\u001b[0;32m     24\u001b[0m     epochs\u001b[38;5;241m=\u001b[39m\u001b[38;5;241m40\u001b[39m,\n\u001b[0;32m     25\u001b[0m     batch_size\u001b[38;5;241m=\u001b[39m\u001b[38;5;241m128\u001b[39m,\n\u001b[0;32m     26\u001b[0m     validation_data\u001b[38;5;241m=\u001b[39m(X_test_seq, y_test_type),\n\u001b[0;32m     27\u001b[0m     callbacks\u001b[38;5;241m=\u001b[39m[checkpoint, early_stopping_train, early_stopping_test]\n\u001b[0;32m     28\u001b[0m )\n",
      "File \u001b[1;32m~\\anaconda3\\Lib\\site-packages\\keras\\src\\utils\\traceback_utils.py:65\u001b[0m, in \u001b[0;36mfilter_traceback.<locals>.error_handler\u001b[1;34m(*args, **kwargs)\u001b[0m\n\u001b[0;32m     63\u001b[0m filtered_tb \u001b[38;5;241m=\u001b[39m \u001b[38;5;28;01mNone\u001b[39;00m\n\u001b[0;32m     64\u001b[0m \u001b[38;5;28;01mtry\u001b[39;00m:\n\u001b[1;32m---> 65\u001b[0m     \u001b[38;5;28;01mreturn\u001b[39;00m fn(\u001b[38;5;241m*\u001b[39margs, \u001b[38;5;241m*\u001b[39m\u001b[38;5;241m*\u001b[39mkwargs)\n\u001b[0;32m     66\u001b[0m \u001b[38;5;28;01mexcept\u001b[39;00m \u001b[38;5;167;01mException\u001b[39;00m \u001b[38;5;28;01mas\u001b[39;00m e:\n\u001b[0;32m     67\u001b[0m     filtered_tb \u001b[38;5;241m=\u001b[39m _process_traceback_frames(e\u001b[38;5;241m.\u001b[39m__traceback__)\n",
      "File \u001b[1;32m~\\anaconda3\\Lib\\site-packages\\keras\\src\\engine\\training.py:1783\u001b[0m, in \u001b[0;36mModel.fit\u001b[1;34m(self, x, y, batch_size, epochs, verbose, callbacks, validation_split, validation_data, shuffle, class_weight, sample_weight, initial_epoch, steps_per_epoch, validation_steps, validation_batch_size, validation_freq, max_queue_size, workers, use_multiprocessing)\u001b[0m\n\u001b[0;32m   1775\u001b[0m \u001b[38;5;28;01mwith\u001b[39;00m tf\u001b[38;5;241m.\u001b[39mprofiler\u001b[38;5;241m.\u001b[39mexperimental\u001b[38;5;241m.\u001b[39mTrace(\n\u001b[0;32m   1776\u001b[0m     \u001b[38;5;124m\"\u001b[39m\u001b[38;5;124mtrain\u001b[39m\u001b[38;5;124m\"\u001b[39m,\n\u001b[0;32m   1777\u001b[0m     epoch_num\u001b[38;5;241m=\u001b[39mepoch,\n\u001b[1;32m   (...)\u001b[0m\n\u001b[0;32m   1780\u001b[0m     _r\u001b[38;5;241m=\u001b[39m\u001b[38;5;241m1\u001b[39m,\n\u001b[0;32m   1781\u001b[0m ):\n\u001b[0;32m   1782\u001b[0m     callbacks\u001b[38;5;241m.\u001b[39mon_train_batch_begin(step)\n\u001b[1;32m-> 1783\u001b[0m     tmp_logs \u001b[38;5;241m=\u001b[39m \u001b[38;5;28mself\u001b[39m\u001b[38;5;241m.\u001b[39mtrain_function(iterator)\n\u001b[0;32m   1784\u001b[0m     \u001b[38;5;28;01mif\u001b[39;00m data_handler\u001b[38;5;241m.\u001b[39mshould_sync:\n\u001b[0;32m   1785\u001b[0m         context\u001b[38;5;241m.\u001b[39masync_wait()\n",
      "File \u001b[1;32m~\\anaconda3\\Lib\\site-packages\\tensorflow\\python\\util\\traceback_utils.py:150\u001b[0m, in \u001b[0;36mfilter_traceback.<locals>.error_handler\u001b[1;34m(*args, **kwargs)\u001b[0m\n\u001b[0;32m    148\u001b[0m filtered_tb \u001b[38;5;241m=\u001b[39m \u001b[38;5;28;01mNone\u001b[39;00m\n\u001b[0;32m    149\u001b[0m \u001b[38;5;28;01mtry\u001b[39;00m:\n\u001b[1;32m--> 150\u001b[0m   \u001b[38;5;28;01mreturn\u001b[39;00m fn(\u001b[38;5;241m*\u001b[39margs, \u001b[38;5;241m*\u001b[39m\u001b[38;5;241m*\u001b[39mkwargs)\n\u001b[0;32m    151\u001b[0m \u001b[38;5;28;01mexcept\u001b[39;00m \u001b[38;5;167;01mException\u001b[39;00m \u001b[38;5;28;01mas\u001b[39;00m e:\n\u001b[0;32m    152\u001b[0m   filtered_tb \u001b[38;5;241m=\u001b[39m _process_traceback_frames(e\u001b[38;5;241m.\u001b[39m__traceback__)\n",
      "File \u001b[1;32m~\\anaconda3\\Lib\\site-packages\\tensorflow\\python\\eager\\polymorphic_function\\polymorphic_function.py:831\u001b[0m, in \u001b[0;36mFunction.__call__\u001b[1;34m(self, *args, **kwds)\u001b[0m\n\u001b[0;32m    828\u001b[0m compiler \u001b[38;5;241m=\u001b[39m \u001b[38;5;124m\"\u001b[39m\u001b[38;5;124mxla\u001b[39m\u001b[38;5;124m\"\u001b[39m \u001b[38;5;28;01mif\u001b[39;00m \u001b[38;5;28mself\u001b[39m\u001b[38;5;241m.\u001b[39m_jit_compile \u001b[38;5;28;01melse\u001b[39;00m \u001b[38;5;124m\"\u001b[39m\u001b[38;5;124mnonXla\u001b[39m\u001b[38;5;124m\"\u001b[39m\n\u001b[0;32m    830\u001b[0m \u001b[38;5;28;01mwith\u001b[39;00m OptionalXlaContext(\u001b[38;5;28mself\u001b[39m\u001b[38;5;241m.\u001b[39m_jit_compile):\n\u001b[1;32m--> 831\u001b[0m   result \u001b[38;5;241m=\u001b[39m \u001b[38;5;28mself\u001b[39m\u001b[38;5;241m.\u001b[39m_call(\u001b[38;5;241m*\u001b[39margs, \u001b[38;5;241m*\u001b[39m\u001b[38;5;241m*\u001b[39mkwds)\n\u001b[0;32m    833\u001b[0m new_tracing_count \u001b[38;5;241m=\u001b[39m \u001b[38;5;28mself\u001b[39m\u001b[38;5;241m.\u001b[39mexperimental_get_tracing_count()\n\u001b[0;32m    834\u001b[0m without_tracing \u001b[38;5;241m=\u001b[39m (tracing_count \u001b[38;5;241m==\u001b[39m new_tracing_count)\n",
      "File \u001b[1;32m~\\anaconda3\\Lib\\site-packages\\tensorflow\\python\\eager\\polymorphic_function\\polymorphic_function.py:867\u001b[0m, in \u001b[0;36mFunction._call\u001b[1;34m(self, *args, **kwds)\u001b[0m\n\u001b[0;32m    864\u001b[0m   \u001b[38;5;28mself\u001b[39m\u001b[38;5;241m.\u001b[39m_lock\u001b[38;5;241m.\u001b[39mrelease()\n\u001b[0;32m    865\u001b[0m   \u001b[38;5;66;03m# In this case we have created variables on the first call, so we run the\u001b[39;00m\n\u001b[0;32m    866\u001b[0m   \u001b[38;5;66;03m# defunned version which is guaranteed to never create variables.\u001b[39;00m\n\u001b[1;32m--> 867\u001b[0m   \u001b[38;5;28;01mreturn\u001b[39;00m tracing_compilation\u001b[38;5;241m.\u001b[39mcall_function(\n\u001b[0;32m    868\u001b[0m       args, kwds, \u001b[38;5;28mself\u001b[39m\u001b[38;5;241m.\u001b[39m_no_variable_creation_config\n\u001b[0;32m    869\u001b[0m   )\n\u001b[0;32m    870\u001b[0m \u001b[38;5;28;01melif\u001b[39;00m \u001b[38;5;28mself\u001b[39m\u001b[38;5;241m.\u001b[39m_variable_creation_config \u001b[38;5;129;01mis\u001b[39;00m \u001b[38;5;129;01mnot\u001b[39;00m \u001b[38;5;28;01mNone\u001b[39;00m:\n\u001b[0;32m    871\u001b[0m   \u001b[38;5;66;03m# Release the lock early so that multiple threads can perform the call\u001b[39;00m\n\u001b[0;32m    872\u001b[0m   \u001b[38;5;66;03m# in parallel.\u001b[39;00m\n\u001b[0;32m    873\u001b[0m   \u001b[38;5;28mself\u001b[39m\u001b[38;5;241m.\u001b[39m_lock\u001b[38;5;241m.\u001b[39mrelease()\n",
      "File \u001b[1;32m~\\anaconda3\\Lib\\site-packages\\tensorflow\\python\\eager\\polymorphic_function\\tracing_compilation.py:139\u001b[0m, in \u001b[0;36mcall_function\u001b[1;34m(args, kwargs, tracing_options)\u001b[0m\n\u001b[0;32m    137\u001b[0m bound_args \u001b[38;5;241m=\u001b[39m function\u001b[38;5;241m.\u001b[39mfunction_type\u001b[38;5;241m.\u001b[39mbind(\u001b[38;5;241m*\u001b[39margs, \u001b[38;5;241m*\u001b[39m\u001b[38;5;241m*\u001b[39mkwargs)\n\u001b[0;32m    138\u001b[0m flat_inputs \u001b[38;5;241m=\u001b[39m function\u001b[38;5;241m.\u001b[39mfunction_type\u001b[38;5;241m.\u001b[39munpack_inputs(bound_args)\n\u001b[1;32m--> 139\u001b[0m \u001b[38;5;28;01mreturn\u001b[39;00m function\u001b[38;5;241m.\u001b[39m_call_flat(  \u001b[38;5;66;03m# pylint: disable=protected-access\u001b[39;00m\n\u001b[0;32m    140\u001b[0m     flat_inputs, captured_inputs\u001b[38;5;241m=\u001b[39mfunction\u001b[38;5;241m.\u001b[39mcaptured_inputs\n\u001b[0;32m    141\u001b[0m )\n",
      "File \u001b[1;32m~\\anaconda3\\Lib\\site-packages\\tensorflow\\python\\eager\\polymorphic_function\\concrete_function.py:1264\u001b[0m, in \u001b[0;36mConcreteFunction._call_flat\u001b[1;34m(self, tensor_inputs, captured_inputs)\u001b[0m\n\u001b[0;32m   1260\u001b[0m possible_gradient_type \u001b[38;5;241m=\u001b[39m gradients_util\u001b[38;5;241m.\u001b[39mPossibleTapeGradientTypes(args)\n\u001b[0;32m   1261\u001b[0m \u001b[38;5;28;01mif\u001b[39;00m (possible_gradient_type \u001b[38;5;241m==\u001b[39m gradients_util\u001b[38;5;241m.\u001b[39mPOSSIBLE_GRADIENT_TYPES_NONE\n\u001b[0;32m   1262\u001b[0m     \u001b[38;5;129;01mand\u001b[39;00m executing_eagerly):\n\u001b[0;32m   1263\u001b[0m   \u001b[38;5;66;03m# No tape is watching; skip to running the function.\u001b[39;00m\n\u001b[1;32m-> 1264\u001b[0m   \u001b[38;5;28;01mreturn\u001b[39;00m \u001b[38;5;28mself\u001b[39m\u001b[38;5;241m.\u001b[39m_inference_function\u001b[38;5;241m.\u001b[39mflat_call(args)\n\u001b[0;32m   1265\u001b[0m forward_backward \u001b[38;5;241m=\u001b[39m \u001b[38;5;28mself\u001b[39m\u001b[38;5;241m.\u001b[39m_select_forward_and_backward_functions(\n\u001b[0;32m   1266\u001b[0m     args,\n\u001b[0;32m   1267\u001b[0m     possible_gradient_type,\n\u001b[0;32m   1268\u001b[0m     executing_eagerly)\n\u001b[0;32m   1269\u001b[0m forward_function, args_with_tangents \u001b[38;5;241m=\u001b[39m forward_backward\u001b[38;5;241m.\u001b[39mforward()\n",
      "File \u001b[1;32m~\\anaconda3\\Lib\\site-packages\\tensorflow\\python\\eager\\polymorphic_function\\atomic_function.py:217\u001b[0m, in \u001b[0;36mAtomicFunction.flat_call\u001b[1;34m(self, args)\u001b[0m\n\u001b[0;32m    215\u001b[0m \u001b[38;5;28;01mdef\u001b[39;00m \u001b[38;5;21mflat_call\u001b[39m(\u001b[38;5;28mself\u001b[39m, args: Sequence[core\u001b[38;5;241m.\u001b[39mTensor]) \u001b[38;5;241m-\u001b[39m\u001b[38;5;241m>\u001b[39m Any:\n\u001b[0;32m    216\u001b[0m \u001b[38;5;250m  \u001b[39m\u001b[38;5;124;03m\"\"\"Calls with tensor inputs and returns the structured output.\"\"\"\u001b[39;00m\n\u001b[1;32m--> 217\u001b[0m   flat_outputs \u001b[38;5;241m=\u001b[39m \u001b[38;5;28mself\u001b[39m(\u001b[38;5;241m*\u001b[39margs)\n\u001b[0;32m    218\u001b[0m   \u001b[38;5;28;01mreturn\u001b[39;00m \u001b[38;5;28mself\u001b[39m\u001b[38;5;241m.\u001b[39mfunction_type\u001b[38;5;241m.\u001b[39mpack_output(flat_outputs)\n",
      "File \u001b[1;32m~\\anaconda3\\Lib\\site-packages\\tensorflow\\python\\eager\\polymorphic_function\\atomic_function.py:252\u001b[0m, in \u001b[0;36mAtomicFunction.__call__\u001b[1;34m(self, *args)\u001b[0m\n\u001b[0;32m    250\u001b[0m \u001b[38;5;28;01mwith\u001b[39;00m record\u001b[38;5;241m.\u001b[39mstop_recording():\n\u001b[0;32m    251\u001b[0m   \u001b[38;5;28;01mif\u001b[39;00m \u001b[38;5;28mself\u001b[39m\u001b[38;5;241m.\u001b[39m_bound_context\u001b[38;5;241m.\u001b[39mexecuting_eagerly():\n\u001b[1;32m--> 252\u001b[0m     outputs \u001b[38;5;241m=\u001b[39m \u001b[38;5;28mself\u001b[39m\u001b[38;5;241m.\u001b[39m_bound_context\u001b[38;5;241m.\u001b[39mcall_function(\n\u001b[0;32m    253\u001b[0m         \u001b[38;5;28mself\u001b[39m\u001b[38;5;241m.\u001b[39mname,\n\u001b[0;32m    254\u001b[0m         \u001b[38;5;28mlist\u001b[39m(args),\n\u001b[0;32m    255\u001b[0m         \u001b[38;5;28mlen\u001b[39m(\u001b[38;5;28mself\u001b[39m\u001b[38;5;241m.\u001b[39mfunction_type\u001b[38;5;241m.\u001b[39mflat_outputs),\n\u001b[0;32m    256\u001b[0m     )\n\u001b[0;32m    257\u001b[0m   \u001b[38;5;28;01melse\u001b[39;00m:\n\u001b[0;32m    258\u001b[0m     outputs \u001b[38;5;241m=\u001b[39m make_call_op_in_graph(\n\u001b[0;32m    259\u001b[0m         \u001b[38;5;28mself\u001b[39m,\n\u001b[0;32m    260\u001b[0m         \u001b[38;5;28mlist\u001b[39m(args),\n\u001b[0;32m    261\u001b[0m         \u001b[38;5;28mself\u001b[39m\u001b[38;5;241m.\u001b[39m_bound_context\u001b[38;5;241m.\u001b[39mfunction_call_options\u001b[38;5;241m.\u001b[39mas_attrs(),\n\u001b[0;32m    262\u001b[0m     )\n",
      "File \u001b[1;32m~\\anaconda3\\Lib\\site-packages\\tensorflow\\python\\eager\\context.py:1479\u001b[0m, in \u001b[0;36mContext.call_function\u001b[1;34m(self, name, tensor_inputs, num_outputs)\u001b[0m\n\u001b[0;32m   1477\u001b[0m cancellation_context \u001b[38;5;241m=\u001b[39m cancellation\u001b[38;5;241m.\u001b[39mcontext()\n\u001b[0;32m   1478\u001b[0m \u001b[38;5;28;01mif\u001b[39;00m cancellation_context \u001b[38;5;129;01mis\u001b[39;00m \u001b[38;5;28;01mNone\u001b[39;00m:\n\u001b[1;32m-> 1479\u001b[0m   outputs \u001b[38;5;241m=\u001b[39m execute\u001b[38;5;241m.\u001b[39mexecute(\n\u001b[0;32m   1480\u001b[0m       name\u001b[38;5;241m.\u001b[39mdecode(\u001b[38;5;124m\"\u001b[39m\u001b[38;5;124mutf-8\u001b[39m\u001b[38;5;124m\"\u001b[39m),\n\u001b[0;32m   1481\u001b[0m       num_outputs\u001b[38;5;241m=\u001b[39mnum_outputs,\n\u001b[0;32m   1482\u001b[0m       inputs\u001b[38;5;241m=\u001b[39mtensor_inputs,\n\u001b[0;32m   1483\u001b[0m       attrs\u001b[38;5;241m=\u001b[39mattrs,\n\u001b[0;32m   1484\u001b[0m       ctx\u001b[38;5;241m=\u001b[39m\u001b[38;5;28mself\u001b[39m,\n\u001b[0;32m   1485\u001b[0m   )\n\u001b[0;32m   1486\u001b[0m \u001b[38;5;28;01melse\u001b[39;00m:\n\u001b[0;32m   1487\u001b[0m   outputs \u001b[38;5;241m=\u001b[39m execute\u001b[38;5;241m.\u001b[39mexecute_with_cancellation(\n\u001b[0;32m   1488\u001b[0m       name\u001b[38;5;241m.\u001b[39mdecode(\u001b[38;5;124m\"\u001b[39m\u001b[38;5;124mutf-8\u001b[39m\u001b[38;5;124m\"\u001b[39m),\n\u001b[0;32m   1489\u001b[0m       num_outputs\u001b[38;5;241m=\u001b[39mnum_outputs,\n\u001b[1;32m   (...)\u001b[0m\n\u001b[0;32m   1493\u001b[0m       cancellation_manager\u001b[38;5;241m=\u001b[39mcancellation_context,\n\u001b[0;32m   1494\u001b[0m   )\n",
      "File \u001b[1;32m~\\anaconda3\\Lib\\site-packages\\tensorflow\\python\\eager\\execute.py:60\u001b[0m, in \u001b[0;36mquick_execute\u001b[1;34m(op_name, num_outputs, inputs, attrs, ctx, name)\u001b[0m\n\u001b[0;32m     53\u001b[0m   \u001b[38;5;66;03m# Convert any objects of type core_types.Tensor to Tensor.\u001b[39;00m\n\u001b[0;32m     54\u001b[0m   inputs \u001b[38;5;241m=\u001b[39m [\n\u001b[0;32m     55\u001b[0m       tensor_conversion_registry\u001b[38;5;241m.\u001b[39mconvert(t)\n\u001b[0;32m     56\u001b[0m       \u001b[38;5;28;01mif\u001b[39;00m \u001b[38;5;28misinstance\u001b[39m(t, core_types\u001b[38;5;241m.\u001b[39mTensor)\n\u001b[0;32m     57\u001b[0m       \u001b[38;5;28;01melse\u001b[39;00m t\n\u001b[0;32m     58\u001b[0m       \u001b[38;5;28;01mfor\u001b[39;00m t \u001b[38;5;129;01min\u001b[39;00m inputs\n\u001b[0;32m     59\u001b[0m   ]\n\u001b[1;32m---> 60\u001b[0m   tensors \u001b[38;5;241m=\u001b[39m pywrap_tfe\u001b[38;5;241m.\u001b[39mTFE_Py_Execute(ctx\u001b[38;5;241m.\u001b[39m_handle, device_name, op_name,\n\u001b[0;32m     61\u001b[0m                                       inputs, attrs, num_outputs)\n\u001b[0;32m     62\u001b[0m \u001b[38;5;28;01mexcept\u001b[39;00m core\u001b[38;5;241m.\u001b[39m_NotOkStatusException \u001b[38;5;28;01mas\u001b[39;00m e:\n\u001b[0;32m     63\u001b[0m   \u001b[38;5;28;01mif\u001b[39;00m name \u001b[38;5;129;01mis\u001b[39;00m \u001b[38;5;129;01mnot\u001b[39;00m \u001b[38;5;28;01mNone\u001b[39;00m:\n",
      "\u001b[1;31mKeyboardInterrupt\u001b[0m: "
     ]
    }
   ],
   "source": [
    "for conv_l2 in [0.005, 0.0005, 0.0001]:\n",
    "    for lr in [0.01, 0.005, 0.001]:\n",
    "        text_input = Input(shape=(maxlen,))\n",
    "\n",
    "        embedding = Embedding(input_dim=max_words, output_dim=50, input_length=maxlen)(text_input)\n",
    "\n",
    "        conv1d_1 = Conv1D(filters=128, kernel_size=5, activation='relu', kernel_regularizer=l2(conv_l2))(embedding)\n",
    "        #conv1d_2 = Conv1D(filters=64, kernel_size=3, activation='relu', kernel_regularizer=l2(conv_l2))(conv1d_1)\n",
    "        pooling = GlobalMaxPooling1D()(conv1d_1)\n",
    "\n",
    "        hidden_1 = Dense(64, activation='relu', kernel_regularizer=l2(0.01))(pooling)\n",
    "        hidden_2 = Dense(10, activation='relu', kernel_regularizer=l2(0.01))(hidden_1)\n",
    "\n",
    "        output = Dense(3, activation='softmax')(hidden_2)\n",
    "\n",
    "        model_conv = Model(inputs=text_input, outputs=output)\n",
    "        model_conv.compile(optimizer=Adam(lr=lr), loss='sparse_categorical_crossentropy', metrics=['accuracy'])\n",
    "\n",
    "        print(\"\\n\\nlr =\", lr)\n",
    "        print(\"l2 =\", conv_l2)\n",
    "\n",
    "        model_conv.fit(\n",
    "            X_train_seq, y_train_type,\n",
    "            epochs=40,\n",
    "            batch_size=128,\n",
    "            validation_data=(X_test_seq, y_test_type),\n",
    "            callbacks=[checkpoint, early_stopping_train, early_stopping_test]\n",
    "        )"
   ]
  },
  {
   "cell_type": "code",
   "execution_count": 59,
   "id": "ed8f1f85",
   "metadata": {},
   "outputs": [
    {
     "name": "stdout",
     "output_type": "stream",
     "text": [
      "15/15 [==============================] - 1s 42ms/step\n",
      "              precision    recall  f1-score   support\n",
      "\n",
      "           0        nan      0.00       nan        65\n",
      "           1       0.57      1.00      0.73       267\n",
      "           2        nan      0.00       nan       137\n",
      "\n",
      "    accuracy                           0.57       469\n",
      "   macro avg       0.57      0.33      0.73       469\n",
      "weighted avg       0.57      0.57      0.73       469\n",
      "\n"
     ]
    }
   ],
   "source": [
    "probs_conv = model_conv.predict(X_test_seq)\n",
    "predictions_conv = np.argmax(probs_conv, axis=1)\n",
    "print(classification_report(y_test_type, predictions_conv, zero_division=np.nan))"
   ]
  },
  {
   "cell_type": "code",
   "execution_count": 60,
   "id": "97e3b621",
   "metadata": {},
   "outputs": [
    {
     "data": {
      "image/png": "[encoded data removed]",
      "text/plain": [
       "<Figure size 640x480 with 2 Axes>"
      ]
     },
     "metadata": {},
     "output_type": "display_data"
    }
   ],
   "source": [
    "ConfusionMatrixDisplay.from_predictions(y_test_type, predictions_conv, cmap='Blues')\n",
    "plt.show()"
   ]
  },
  {
   "cell_type": "markdown",
   "id": "f6741492",
   "metadata": {},
   "source": [
    "### Red Neuronal con TF-IDF"
   ]
  },
  {
   "cell_type": "code",
   "execution_count": 61,
   "id": "6619e12a",
   "metadata": {},
   "outputs": [],
   "source": [
    "import nltk\n",
    "#nltk.download('stopwords')\n",
    "from nltk.corpus import stopwords\n",
    "STOP_WORDS = stopwords.words('english')\n",
    "def remove_stop_words(text):\n",
    "    removed_stop_words = ' '.join([word for word in text.split() if word not in STOP_WORDS])\n",
    "    return removed_stop_words"
   ]
  },
  {
   "cell_type": "code",
   "execution_count": 62,
   "id": "e9e149f9",
   "metadata": {},
   "outputs": [],
   "source": [
    "X_train_text = X_train_type['discourse_text'].apply(remove_stop_words)\n",
    "X_test_text = X_test_type['discourse_text'].apply(remove_stop_words)"
   ]
  },
  {
   "cell_type": "code",
   "execution_count": 63,
   "id": "3f845eda",
   "metadata": {},
   "outputs": [],
   "source": [
    "tfidf_vectorizer = TfidfVectorizer(max_features=5000)\n",
    "X_train_tfidf = tfidf_vectorizer.fit_transform(X_train_text).toarray()\n",
    "X_test_tfidf = tfidf_vectorizer.transform(X_test_text).toarray()"
   ]
  },
  {
   "cell_type": "code",
   "execution_count": 64,
   "id": "582d2827",
   "metadata": {},
   "outputs": [
    {
     "name": "stdout",
     "output_type": "stream",
     "text": [
      "Model: \"model_5\"\n",
      "_________________________________________________________________\n",
      " Layer (type)                Output Shape              Param #   \n",
      "=================================================================\n",
      " tfidf_input (InputLayer)    [(None, 4607)]            0         \n",
      "                                                                 \n",
      " dense_tfidf (Dense)         (None, 128)               589824    \n",
      "                                                                 \n",
      " hidden_layer (Dense)        (None, 64)                8256      \n",
      "                                                                 \n",
      " output (Dense)              (None, 3)                 195       \n",
      "                                                                 \n",
      "=================================================================\n",
      "Total params: 598275 (2.28 MB)\n",
      "Trainable params: 598275 (2.28 MB)\n",
      "Non-trainable params: 0 (0.00 Byte)\n",
      "_________________________________________________________________\n",
      "Epoch 1/20\n",
      "15/15 [==============================] - 2s 48ms/step - loss: 3.2985 - accuracy: 0.5220 - val_loss: 2.2483 - val_accuracy: 0.5693\n",
      "Epoch 2/20\n",
      "15/15 [==============================] - 0s 24ms/step - loss: 1.8764 - accuracy: 0.5362 - val_loss: 1.5498 - val_accuracy: 0.5693\n",
      "Epoch 3/20\n",
      "15/15 [==============================] - 0s 22ms/step - loss: 1.4638 - accuracy: 0.5362 - val_loss: 1.3495 - val_accuracy: 0.5693\n",
      "Epoch 4/20\n",
      "15/15 [==============================] - 0s 25ms/step - loss: 1.3195 - accuracy: 0.5362 - val_loss: 1.2436 - val_accuracy: 0.5693\n",
      "Epoch 5/20\n",
      "15/15 [==============================] - 0s 24ms/step - loss: 1.2214 - accuracy: 0.5390 - val_loss: 1.1669 - val_accuracy: 0.6077\n",
      "Epoch 6/20\n",
      "15/15 [==============================] - 0s 25ms/step - loss: 1.1493 - accuracy: 0.5851 - val_loss: 1.1096 - val_accuracy: 0.6311\n",
      "Epoch 7/20\n",
      "15/15 [==============================] - 0s 26ms/step - loss: 1.0911 - accuracy: 0.6142 - val_loss: 1.0655 - val_accuracy: 0.6290\n",
      "Epoch 8/20\n",
      "15/15 [==============================] - 0s 24ms/step - loss: 1.0491 - accuracy: 0.6240 - val_loss: 1.0363 - val_accuracy: 0.6525\n",
      "Epoch 9/20\n",
      "15/15 [==============================] - 0s 24ms/step - loss: 1.0127 - accuracy: 0.6619 - val_loss: 1.0162 - val_accuracy: 0.6418\n",
      "Epoch 10/20\n",
      "15/15 [==============================] - 0s 25ms/step - loss: 0.9856 - accuracy: 0.6729 - val_loss: 0.9998 - val_accuracy: 0.6610\n",
      "Epoch 11/20\n",
      "15/15 [==============================] - 0s 26ms/step - loss: 0.9612 - accuracy: 0.6872 - val_loss: 0.9898 - val_accuracy: 0.6546\n",
      "Epoch 12/20\n",
      "15/15 [==============================] - 0s 23ms/step - loss: 0.9410 - accuracy: 0.6965 - val_loss: 0.9839 - val_accuracy: 0.6588\n",
      "Epoch 13/20\n",
      "15/15 [==============================] - 0s 26ms/step - loss: 0.9294 - accuracy: 0.7108 - val_loss: 0.9800 - val_accuracy: 0.6716\n",
      "Epoch 14/20\n",
      "15/15 [==============================] - 0s 24ms/step - loss: 0.9130 - accuracy: 0.7146 - val_loss: 0.9824 - val_accuracy: 0.6439\n",
      "Epoch 15/20\n",
      "15/15 [==============================] - 0s 25ms/step - loss: 0.9042 - accuracy: 0.7245 - val_loss: 0.9806 - val_accuracy: 0.6674\n",
      "Epoch 16/20\n",
      "15/15 [==============================] - 0s 26ms/step - loss: 0.8934 - accuracy: 0.7311 - val_loss: 0.9798 - val_accuracy: 0.6631\n",
      "Epoch 17/20\n",
      "15/15 [==============================] - 0s 24ms/step - loss: 0.8839 - accuracy: 0.7404 - val_loss: 0.9799 - val_accuracy: 0.6546\n",
      "Epoch 18/20\n",
      "15/15 [==============================] - 0s 23ms/step - loss: 0.8815 - accuracy: 0.7382 - val_loss: 0.9779 - val_accuracy: 0.6738\n",
      "Epoch 19/20\n",
      "15/15 [==============================] - 0s 24ms/step - loss: 0.8681 - accuracy: 0.7552 - val_loss: 0.9873 - val_accuracy: 0.6610\n",
      "Epoch 20/20\n",
      "15/15 [==============================] - 0s 25ms/step - loss: 0.8610 - accuracy: 0.7530 - val_loss: 0.9853 - val_accuracy: 0.6631\n"
     ]
    },
    {
     "data": {
      "text/plain": [
       "<keras.src.callbacks.History at 0x2193915e590>"
      ]
     },
     "execution_count": 64,
     "metadata": {},
     "output_type": "execute_result"
    }
   ],
   "source": [
    "tfidf_input = Input(shape=(X_train_tfidf.shape[1],), name='tfidf_input')\n",
    "\n",
    "dense_tfidf = Dense(128, activation='relu', name='dense_tfidf', kernel_regularizer=l2(0.01))(tfidf_input)\n",
    "\n",
    "hidden_layer = Dense(64, activation='relu', name='hidden_layer', kernel_regularizer=l2(0.01))(dense_tfidf)\n",
    "\n",
    "output_layer = Dense(3, activation='softmax', name='output')(hidden_layer)\n",
    "\n",
    "model_tfidf = Model(inputs=[tfidf_input], outputs=output_layer)\n",
    "model_tfidf.compile(optimizer='adam', loss='sparse_categorical_crossentropy', metrics=['accuracy'])\n",
    "model_tfidf.summary()\n",
    "\n",
    "model_tfidf.fit(\n",
    "    [X_train_tfidf], y_train_type,\n",
    "    epochs=20,\n",
    "    batch_size=128,\n",
    "    validation_data=([X_test_tfidf], y_test_type)\n",
    ")"
   ]
  },
  {
   "cell_type": "code",
   "execution_count": 65,
   "id": "b48aa7f0",
   "metadata": {},
   "outputs": [
    {
     "name": "stdout",
     "output_type": "stream",
     "text": [
      "15/15 [==============================] - 0s 3ms/step\n",
      "              precision    recall  f1-score   support\n",
      "\n",
      "           0        nan      0.00       nan        65\n",
      "           1       0.67      0.85      0.75       267\n",
      "           2       0.65      0.61      0.63       137\n",
      "\n",
      "    accuracy                           0.66       469\n",
      "   macro avg       0.66      0.49      0.69       469\n",
      "weighted avg       0.66      0.66      0.71       469\n",
      "\n"
     ]
    }
   ],
   "source": [
    "probs_tfidf = model_tfidf.predict(X_test_tfidf)\n",
    "predictions_tfidf = np.argmax(probs_tfidf, axis=1)\n",
    "print(classification_report(y_test_type, predictions_tfidf, zero_division=np.nan))"
   ]
  },
  {
   "cell_type": "code",
   "execution_count": 66,
   "id": "c38cd5a4",
   "metadata": {},
   "outputs": [
    {
     "data": {
      "image/png": "[encoded data removed]",
      "text/plain": [
       "<Figure size 640x480 with 2 Axes>"
      ]
     },
     "metadata": {},
     "output_type": "display_data"
    }
   ],
   "source": [
    "ConfusionMatrixDisplay.from_predictions(y_test_type, predictions_tfidf, cmap='Blues')\n",
    "plt.show()"
   ]
  },
  {
   "cell_type": "markdown",
   "id": "0d032ec1",
   "metadata": {},
   "source": [
    "### XGBoost Stacking"
   ]
  },
  {
   "cell_type": "code",
   "execution_count": 67,
   "id": "84068224",
   "metadata": {},
   "outputs": [],
   "source": [
    "X_train_features = X_train_type.drop(\"discourse_text\", axis=1)\n",
    "X_test_features = X_test_type.drop(\"discourse_text\", axis=1)"
   ]
  },
  {
   "cell_type": "code",
   "execution_count": 68,
   "id": "e6fd0c7c",
   "metadata": {},
   "outputs": [
    {
     "name": "stdout",
     "output_type": "stream",
     "text": [
      "57/57 [==============================] - 2s 39ms/step\n",
      "57/57 [==============================] - 0s 3ms/step\n"
     ]
    }
   ],
   "source": [
    "X_train_features[['prob_0_conv', 'prob_1_conv', 'prob_2_conv']] = model_conv.predict(X_train_seq)\n",
    "X_test_features[['prob_0_conv', 'prob_1_conv', 'prob_2_conv']] = probs_conv\n",
    "\n",
    "X_train_features[['prob_0_tfidf', 'prob_1_tfidf', 'prob_2_tfidf']] = model_tfidf.predict(X_train_tfidf)\n",
    "X_test_features[['prob_0_tfidf', 'prob_1_tfidf', 'prob_2_tfidf']] = probs_tfidf"
   ]
  },
  {
   "cell_type": "code",
   "execution_count": 69,
   "id": "f9d94425",
   "metadata": {},
   "outputs": [
    {
     "name": "stderr",
     "output_type": "stream",
     "text": [
      "C:\\Users\\osjom\\anaconda3\\Lib\\site-packages\\xgboost\\core.py:160: UserWarning: [17:00:21] WARNING: C:\\buildkite-agent\\builds\\buildkite-windows-cpu-autoscaling-group-i-07f6e447eee219473-1\\xgboost\\xgboost-ci-windows\\src\\learner.cc:742: \n",
      "Parameters: { \"max_bins\" } are not used.\n",
      "\n",
      "  warnings.warn(smsg, UserWarning)\n"
     ]
    },
    {
     "name": "stdout",
     "output_type": "stream",
     "text": [
      "              precision    recall  f1-score   support\n",
      "\n",
      "           0       0.76      0.49      0.60       299\n",
      "           1       0.82      0.91      0.86       977\n",
      "           2       0.91      0.89      0.90       546\n",
      "\n",
      "    accuracy                           0.84      1822\n",
      "   macro avg       0.83      0.77      0.79      1822\n",
      "weighted avg       0.84      0.84      0.83      1822\n",
      "\n",
      "              precision    recall  f1-score   support\n",
      "\n",
      "           0       0.46      0.29      0.36        65\n",
      "           1       0.69      0.76      0.73       267\n",
      "           2       0.64      0.63      0.63       137\n",
      "\n",
      "    accuracy                           0.66       469\n",
      "   macro avg       0.60      0.56      0.57       469\n",
      "weighted avg       0.65      0.66      0.65       469\n",
      "\n"
     ]
    }
   ],
   "source": [
    "model_xgb = xgb.XGBClassifier(\n",
    "    objective='multi:softmax',\n",
    "    num_class=3,\n",
    "    seed=42,\n",
    "    learning_rate=0.05,\n",
    "    max_bins=400,\n",
    "    min_child_weight=100,\n",
    "    max_depth=20,\n",
    "    n_estimators=100\n",
    ")\n",
    "model_xgb.fit(X_train_features, y_train_type)\n",
    "predictions_xgb = model_xgb.predict(X_test_features)\n",
    "print(classification_report(y_train_type, model_xgb.predict(X_train_features), zero_division=np.nan))\n",
    "print(classification_report(y_test_type, predictions_xgb, zero_division=np.nan))"
   ]
  },
  {
   "cell_type": "code",
   "execution_count": 70,
   "id": "27127820",
   "metadata": {},
   "outputs": [
    {
     "data": {
      "image/png": "[encoded data removed]",
      "text/plain": [
       "<Figure size 640x480 with 2 Axes>"
      ]
     },
     "metadata": {},
     "output_type": "display_data"
    }
   ],
   "source": [
    "ConfusionMatrixDisplay.from_predictions(y_test_type, predictions_xgb, cmap='Blues')\n",
    "plt.show()"
   ]
  }
 ],
 "metadata": {
  "kernelspec": {
   "display_name": "Python 3 (ipykernel)",
   "language": "python",
   "name": "python3"
  },
  "language_info": {
   "codemirror_mode": {
    "name": "ipython",
    "version": 3
   },
   "file_extension": ".py",
   "mimetype": "text/x-python",
   "name": "python",
   "nbconvert_exporter": "python",
   "pygments_lexer": "ipython3",
   "version": "3.11.4"
  }
 },
 "nbformat": 4,
 "nbformat_minor": 5
}
